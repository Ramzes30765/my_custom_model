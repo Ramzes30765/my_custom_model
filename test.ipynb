{
 "cells": [
  {
   "cell_type": "code",
   "execution_count": 16,
   "metadata": {},
   "outputs": [],
   "source": [
    "import torch\n",
    "import matplotlib.pyplot as plt"
   ]
  },
  {
   "cell_type": "code",
   "execution_count": 2,
   "metadata": {},
   "outputs": [],
   "source": [
    "from backbones.timm_backbones import BackboneWrapper\n",
    "from necks.attention_bifpn import BiFPN\n",
    "from heads.dynamic_head import DynamicHead\n",
    "from heads.prediction_head import CenterHead\n",
    "from models.sota_model import MySOTAModel"
   ]
  },
  {
   "cell_type": "code",
   "execution_count": null,
   "metadata": {},
   "outputs": [],
   "source": [
    "backbone = BackboneWrapper('resnet50', pretrained=True)\n",
    "in_channels_list = backbone.model.feature_info.channels()[:4]\n",
    "\n",
    "neck = BiFPN(in_channels_list=in_channels_list, out_channels=256)\n",
    "head = DynamicHead(in_channels=256, num_levels=5)\n",
    "prediction_head = CenterHead(in_channels=256, num_classes=10)\n",
    "\n",
    "model = MySOTAModel(backbone, neck, head, prediction_head, topk=100)"
   ]
  },
  {
   "cell_type": "code",
   "execution_count": 4,
   "metadata": {},
   "outputs": [],
   "source": [
    "dummy_input = torch.randn(1, 3, 512, 512)\n",
    "image_size = (512, 512)"
   ]
  },
  {
   "cell_type": "code",
   "execution_count": 5,
   "metadata": {},
   "outputs": [
    {
     "name": "stdout",
     "output_type": "stream",
     "text": [
      "P3 shape: torch.Size([1, 256, 64, 64])\n",
      "P4 shape: torch.Size([1, 256, 32, 32])\n",
      "P5 shape: torch.Size([1, 256, 16, 16])\n",
      "P6 shape: torch.Size([1, 256, 8, 8])\n",
      "P7 shape: torch.Size([1, 256, 4, 4])\n"
     ]
    }
   ],
   "source": [
    "model.eval()\n",
    "with torch.no_grad():\n",
    "    feats = backbone(dummy_input)\n",
    "    neck_feats = neck(feats)\n",
    "\n",
    "for i, f in enumerate(neck_feats, start=3):\n",
    "    print(f\"P{i} shape:\", f.shape)"
   ]
  },
  {
   "cell_type": "code",
   "execution_count": 28,
   "metadata": {},
   "outputs": [],
   "source": [
    "with torch.no_grad():\n",
    "    res = model.forward(dummy_input, return_preds=True, image_size=(512, 512))"
   ]
  }
 ],
 "metadata": {
  "kernelspec": {
   "display_name": ".mymodel",
   "language": "python",
   "name": "python3"
  },
  "language_info": {
   "codemirror_mode": {
    "name": "ipython",
    "version": 3
   },
   "file_extension": ".py",
   "mimetype": "text/x-python",
   "name": "python",
   "nbconvert_exporter": "python",
   "pygments_lexer": "ipython3",
   "version": "3.10.10"
  }
 },
 "nbformat": 4,
 "nbformat_minor": 2
}

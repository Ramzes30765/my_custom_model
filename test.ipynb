{
 "cells": [
  {
   "cell_type": "code",
   "execution_count": 2,
   "metadata": {},
   "outputs": [],
   "source": [
    "import torch\n",
    "import matplotlib.pyplot as plt"
   ]
  },
  {
   "cell_type": "code",
   "execution_count": 1,
   "metadata": {},
   "outputs": [],
   "source": [
    "from backbones.timm_backbones import BackboneWrapper\n",
    "from necks.attention_bifpn import BiFPN\n",
    "from heads.dynamic_head import DynamicHead\n",
    "from heads.prediction_head import CenterHead\n",
    "from models.sota_model import MySOTAModel"
   ]
  },
  {
   "cell_type": "code",
   "execution_count": 4,
   "metadata": {},
   "outputs": [
    {
     "data": {
      "application/vnd.jupyter.widget-view+json": {
       "model_id": "d25f056c0417424bb1e67b8faa2e66ef",
       "version_major": 2,
       "version_minor": 0
      },
      "text/plain": [
       "model.safetensors:   0%|          | 0.00/102M [00:00<?, ?B/s]"
      ]
     },
     "metadata": {},
     "output_type": "display_data"
    },
    {
     "name": "stderr",
     "output_type": "stream",
     "text": [
      "d:\\My_projects\\implementations\\my_custom_model\\.mymodel\\lib\\site-packages\\huggingface_hub\\file_download.py:142: UserWarning: `huggingface_hub` cache-system uses symlinks by default to efficiently store duplicated files but your machine does not support them in C:\\Users\\junk3\\.cache\\huggingface\\hub\\models--timm--resnet50.a1_in1k. Caching files will still work but in a degraded version that might require more space on your disk. This warning can be disabled by setting the `HF_HUB_DISABLE_SYMLINKS_WARNING` environment variable. For more details, see https://huggingface.co/docs/huggingface_hub/how-to-cache#limitations.\n",
      "To support symlinks on Windows, you either need to activate Developer Mode or to run Python as an administrator. In order to activate developer mode, see this article: https://docs.microsoft.com/en-us/windows/apps/get-started/enable-your-device-for-development\n",
      "  warnings.warn(message)\n"
     ]
    }
   ],
   "source": [
    "backbone = BackboneWrapper('resnet50', pretrained=True)\n",
    "in_channels_list = backbone.model.feature_info.channels()[:4]\n",
    "\n",
    "neck = BiFPN(in_channels_list=in_channels_list, out_channels=256)\n",
    "head = DynamicHead(in_channels=256, num_levels=5)\n",
    "prediction_head = CenterHead(in_channels=256, num_classes=10)\n",
    "\n",
    "model = MySOTAModel(backbone, neck, head, prediction_head, topk=100)"
   ]
  },
  {
   "cell_type": "code",
   "execution_count": 5,
   "metadata": {},
   "outputs": [],
   "source": [
    "dummy_input = torch.randn(1, 3, 512, 512)\n",
    "image_size = (512, 512)"
   ]
  },
  {
   "cell_type": "code",
   "execution_count": 6,
   "metadata": {},
   "outputs": [
    {
     "name": "stdout",
     "output_type": "stream",
     "text": [
      "P3 shape: torch.Size([1, 256, 64, 64])\n",
      "P4 shape: torch.Size([1, 256, 32, 32])\n",
      "P5 shape: torch.Size([1, 256, 16, 16])\n",
      "P6 shape: torch.Size([1, 256, 8, 8])\n",
      "P7 shape: torch.Size([1, 256, 4, 4])\n"
     ]
    }
   ],
   "source": [
    "model.eval()\n",
    "with torch.no_grad():\n",
    "    feats = backbone(dummy_input)\n",
    "    neck_feats = neck(feats)\n",
    "\n",
    "for i, f in enumerate(neck_feats, start=3):\n",
    "    print(f\"P{i} shape:\", f.shape)"
   ]
  },
  {
   "cell_type": "code",
   "execution_count": 11,
   "metadata": {},
   "outputs": [],
   "source": [
    "with torch.no_grad():\n",
    "    res = model.forward(dummy_input, return_preds=True, image_size=(512, 512), score_thresh=0.1)"
   ]
  },
  {
   "cell_type": "code",
   "execution_count": 12,
   "metadata": {},
   "outputs": [
    {
     "data": {
      "text/plain": [
       "[(tensor([[1.4391e+02, 1.6399e-01, 1.4359e+02, 5.8092e-01],\n",
       "          [7.9913e+01, 1.6399e-01, 7.9593e+01, 5.8092e-01],\n",
       "          [3.1913e+01, 1.6399e-01, 3.1593e+01, 5.8092e-01],\n",
       "          [1.2791e+02, 1.6399e-01, 1.2759e+02, 5.8092e-01],\n",
       "          [9.5913e+01, 1.6399e-01, 9.5593e+01, 5.8092e-01],\n",
       "          [6.3913e+01, 1.6399e-01, 6.3593e+01, 5.8092e-01],\n",
       "          [1.5191e+02, 1.6399e-01, 1.5159e+02, 5.8092e-01],\n",
       "          [7.9134e+00, 1.6399e-01, 7.5931e+00, 5.8092e-01],\n",
       "          [8.7913e+01, 1.6399e-01, 8.7593e+01, 5.8092e-01],\n",
       "          [3.9913e+01, 1.6399e-01, 3.9593e+01, 5.8092e-01],\n",
       "          [1.1991e+02, 1.6399e-01, 1.1959e+02, 5.8092e-01],\n",
       "          [1.0391e+02, 1.6399e-01, 1.0359e+02, 5.8092e-01],\n",
       "          [5.5913e+01, 1.6399e-01, 5.5593e+01, 5.8092e-01],\n",
       "          [1.3591e+02, 1.6399e-01, 1.3559e+02, 5.8092e-01],\n",
       "          [2.3913e+01, 1.6399e-01, 2.3593e+01, 5.8092e-01],\n",
       "          [7.1913e+01, 1.6399e-01, 7.1593e+01, 5.8092e-01],\n",
       "          [0.0000e+00, 1.6399e-01, 0.0000e+00, 5.8092e-01],\n",
       "          [1.5913e+01, 1.6399e-01, 1.5593e+01, 5.8092e-01],\n",
       "          [4.7913e+01, 1.6399e-01, 4.7593e+01, 5.8092e-01],\n",
       "          [1.1191e+02, 1.6399e-01, 1.1159e+02, 5.8092e-01],\n",
       "          [2.8783e+02, 3.2799e-01, 2.8719e+02, 1.1618e+00],\n",
       "          [1.5983e+02, 3.2799e-01, 1.5919e+02, 1.1618e+00],\n",
       "          [6.3827e+01, 3.2799e-01, 6.3186e+01, 1.1618e+00],\n",
       "          [2.5583e+02, 3.2799e-01, 2.5519e+02, 1.1618e+00],\n",
       "          [1.9183e+02, 3.2799e-01, 1.9119e+02, 1.1618e+00],\n",
       "          [1.2783e+02, 3.2799e-01, 1.2719e+02, 1.1618e+00],\n",
       "          [3.0383e+02, 3.2799e-01, 3.0319e+02, 1.1618e+00],\n",
       "          [1.5827e+01, 3.2799e-01, 1.5186e+01, 1.1618e+00],\n",
       "          [1.7583e+02, 3.2799e-01, 1.7519e+02, 1.1618e+00],\n",
       "          [7.9827e+01, 3.2799e-01, 7.9186e+01, 1.1618e+00],\n",
       "          [2.3983e+02, 3.2799e-01, 2.3919e+02, 1.1618e+00],\n",
       "          [2.0783e+02, 3.2799e-01, 2.0719e+02, 1.1618e+00],\n",
       "          [1.1183e+02, 3.2799e-01, 1.1119e+02, 1.1618e+00],\n",
       "          [2.7183e+02, 3.2799e-01, 2.7119e+02, 1.1618e+00],\n",
       "          [4.7827e+01, 3.2799e-01, 4.7186e+01, 1.1618e+00],\n",
       "          [1.4383e+02, 3.2799e-01, 1.4319e+02, 1.1618e+00],\n",
       "          [0.0000e+00, 3.2799e-01, 0.0000e+00, 1.1618e+00],\n",
       "          [3.1827e+01, 3.2799e-01, 3.1186e+01, 1.1618e+00],\n",
       "          [9.5827e+01, 3.2799e-01, 9.5186e+01, 1.1618e+00],\n",
       "          [2.2383e+02, 3.2799e-01, 2.2319e+02, 1.1618e+00],\n",
       "          [6.3653e+01, 3.2656e+01, 6.2373e+01, 3.4324e+01],\n",
       "          [3.1965e+02, 6.5597e-01, 3.1837e+02, 2.3237e+00],\n",
       "          [1.2765e+02, 6.5597e-01, 1.2637e+02, 2.3237e+00],\n",
       "          [0.0000e+00, 3.2656e+01, 0.0000e+00, 3.4324e+01],\n",
       "          [3.8365e+02, 6.5597e-01, 3.8237e+02, 2.3237e+00],\n",
       "          [2.5565e+02, 6.5597e-01, 2.5437e+02, 2.3237e+00],\n",
       "          [9.5653e+01, 3.2656e+01, 9.4373e+01, 3.4324e+01],\n",
       "          [3.1653e+01, 6.5597e-01, 3.0373e+01, 2.3237e+00],\n",
       "          [3.5165e+02, 6.5597e-01, 3.5037e+02, 2.3237e+00],\n",
       "          [1.5965e+02, 6.5597e-01, 1.5837e+02, 2.3237e+00],\n",
       "          [4.7965e+02, 6.5597e-01, 4.7837e+02, 2.3237e+00],\n",
       "          [4.1565e+02, 6.5597e-01, 4.1437e+02, 2.3237e+00],\n",
       "          [2.2365e+02, 6.5597e-01, 2.2237e+02, 2.3237e+00],\n",
       "          [3.1653e+01, 3.2656e+01, 3.0373e+01, 3.4324e+01],\n",
       "          [9.5653e+01, 6.5597e-01, 9.4373e+01, 2.3237e+00],\n",
       "          [2.8765e+02, 6.5597e-01, 2.8637e+02, 2.3237e+00],\n",
       "          [0.0000e+00, 6.5597e-01, 0.0000e+00, 2.3237e+00],\n",
       "          [6.3653e+01, 6.5597e-01, 6.2373e+01, 2.3237e+00],\n",
       "          [1.9165e+02, 6.5597e-01, 1.9037e+02, 2.3237e+00],\n",
       "          [4.4765e+02, 6.5597e-01, 4.4637e+02, 2.3237e+00],\n",
       "          [0.0000e+00, 1.3119e+00, 0.0000e+00, 4.6473e+00],\n",
       "          [6.3307e+01, 1.3119e+00, 6.0745e+01, 4.6473e+00],\n",
       "          [1.2731e+02, 1.3119e+00, 1.2475e+02, 4.6473e+00],\n",
       "          [1.9131e+02, 1.3119e+00, 1.8875e+02, 4.6473e+00],\n",
       "          [2.5531e+02, 1.3119e+00, 2.5275e+02, 4.6473e+00],\n",
       "          [3.1931e+02, 1.3119e+00, 3.1675e+02, 4.6473e+00],\n",
       "          [3.8331e+02, 1.3119e+00, 3.8075e+02, 4.6473e+00],\n",
       "          [4.4731e+02, 1.3119e+00, 4.4475e+02, 4.6473e+00],\n",
       "          [0.0000e+00, 6.5312e+01, 0.0000e+00, 6.8647e+01],\n",
       "          [6.3307e+01, 6.5312e+01, 6.0745e+01, 6.8647e+01],\n",
       "          [1.2731e+02, 6.5312e+01, 1.2475e+02, 6.8647e+01],\n",
       "          [1.9131e+02, 6.5312e+01, 1.8875e+02, 6.8647e+01],\n",
       "          [2.5531e+02, 6.5312e+01, 2.5275e+02, 6.8647e+01],\n",
       "          [3.1931e+02, 6.5312e+01, 3.1675e+02, 6.8647e+01],\n",
       "          [3.8331e+02, 6.5312e+01, 3.8075e+02, 6.8647e+01],\n",
       "          [4.4731e+02, 6.5312e+01, 4.4475e+02, 6.8647e+01],\n",
       "          [0.0000e+00, 1.2931e+02, 0.0000e+00, 1.3265e+02],\n",
       "          [6.3307e+01, 1.2931e+02, 6.0745e+01, 1.3265e+02],\n",
       "          [1.2731e+02, 1.2931e+02, 1.2475e+02, 1.3265e+02],\n",
       "          [1.9131e+02, 1.2931e+02, 1.8875e+02, 1.3265e+02],\n",
       "          [0.0000e+00, 2.6239e+00, 0.0000e+00, 9.2947e+00],\n",
       "          [1.2661e+02, 2.6239e+00, 1.2149e+02, 9.2947e+00],\n",
       "          [2.5461e+02, 2.6239e+00, 2.4949e+02, 9.2947e+00],\n",
       "          [3.8261e+02, 2.6239e+00, 3.7749e+02, 9.2947e+00],\n",
       "          [0.0000e+00, 1.3062e+02, 0.0000e+00, 1.3729e+02],\n",
       "          [1.2661e+02, 1.3062e+02, 1.2149e+02, 1.3729e+02],\n",
       "          [2.5461e+02, 1.3062e+02, 2.4949e+02, 1.3729e+02],\n",
       "          [3.8261e+02, 1.3062e+02, 3.7749e+02, 1.3729e+02],\n",
       "          [0.0000e+00, 2.5862e+02, 0.0000e+00, 2.6529e+02],\n",
       "          [1.2661e+02, 2.5862e+02, 1.2149e+02, 2.6529e+02],\n",
       "          [2.5461e+02, 2.5862e+02, 2.4949e+02, 2.6529e+02],\n",
       "          [3.8261e+02, 2.5862e+02, 3.7749e+02, 2.6529e+02],\n",
       "          [0.0000e+00, 3.8662e+02, 0.0000e+00, 3.9329e+02],\n",
       "          [1.2661e+02, 3.8662e+02, 1.2149e+02, 3.9329e+02],\n",
       "          [2.5461e+02, 3.8662e+02, 2.4949e+02, 3.9329e+02],\n",
       "          [3.8261e+02, 3.8662e+02, 3.7749e+02, 3.9329e+02],\n",
       "          [3.8261e+02, 3.8662e+02, 3.7749e+02, 3.9329e+02],\n",
       "          [2.5461e+02, 3.8662e+02, 2.4949e+02, 3.9329e+02],\n",
       "          [1.2661e+02, 3.8662e+02, 1.2149e+02, 3.9329e+02],\n",
       "          [0.0000e+00, 3.8662e+02, 0.0000e+00, 3.9329e+02]]),\n",
       "  tensor([0.2649, 0.2649, 0.2649, 0.2649, 0.2649, 0.2649, 0.2649, 0.2649, 0.2649,\n",
       "          0.2649, 0.2649, 0.2649, 0.2649, 0.2649, 0.2649, 0.2649, 0.2649, 0.2649,\n",
       "          0.2649, 0.2649, 0.2649, 0.2649, 0.2649, 0.2649, 0.2649, 0.2649, 0.2649,\n",
       "          0.2649, 0.2649, 0.2649, 0.2649, 0.2649, 0.2649, 0.2649, 0.2649, 0.2649,\n",
       "          0.2649, 0.2649, 0.2649, 0.2649, 0.2649, 0.2649, 0.2649, 0.2649, 0.2649,\n",
       "          0.2649, 0.2649, 0.2649, 0.2649, 0.2649, 0.2649, 0.2649, 0.2649, 0.2649,\n",
       "          0.2649, 0.2649, 0.2649, 0.2649, 0.2649, 0.2649, 0.2649, 0.2649, 0.2649,\n",
       "          0.2649, 0.2649, 0.2649, 0.2649, 0.2649, 0.2649, 0.2649, 0.2649, 0.2649,\n",
       "          0.2649, 0.2649, 0.2649, 0.2649, 0.2649, 0.2649, 0.2649, 0.2649, 0.2649,\n",
       "          0.2649, 0.2649, 0.2649, 0.2649, 0.2649, 0.2649, 0.2649, 0.2649, 0.2649,\n",
       "          0.2649, 0.2649, 0.2649, 0.2649, 0.2649, 0.2649, 0.2611, 0.2611, 0.2611,\n",
       "          0.2611]),\n",
       "  tensor([0, 0, 0, 0, 0, 0, 0, 0, 0, 0, 0, 0, 0, 0, 0, 0, 0, 0, 0, 0, 0, 0, 0, 0,\n",
       "          0, 0, 0, 0, 0, 0, 0, 0, 0, 0, 0, 0, 0, 0, 0, 0, 0, 0, 0, 0, 0, 0, 0, 0,\n",
       "          0, 0, 0, 0, 0, 0, 0, 0, 0, 0, 0, 0, 0, 0, 0, 0, 0, 0, 0, 0, 0, 0, 0, 0,\n",
       "          0, 0, 0, 0, 0, 0, 0, 0, 0, 0, 0, 0, 0, 0, 0, 0, 0, 0, 0, 0, 0, 0, 0, 0,\n",
       "          4, 4, 4, 4]))]"
      ]
     },
     "execution_count": 12,
     "metadata": {},
     "output_type": "execute_result"
    }
   ],
   "source": [
    "res"
   ]
  }
 ],
 "metadata": {
  "kernelspec": {
   "display_name": ".mymodel (3.10.10)",
   "language": "python",
   "name": "python3"
  },
  "language_info": {
   "codemirror_mode": {
    "name": "ipython",
    "version": 3
   },
   "file_extension": ".py",
   "mimetype": "text/x-python",
   "name": "python",
   "nbconvert_exporter": "python",
   "pygments_lexer": "ipython3",
   "version": "3.10.10"
  }
 },
 "nbformat": 4,
 "nbformat_minor": 2
}

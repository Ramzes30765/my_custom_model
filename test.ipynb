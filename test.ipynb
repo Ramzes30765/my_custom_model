{
 "cells": [
  {
   "cell_type": "code",
   "execution_count": 11,
   "metadata": {},
   "outputs": [],
   "source": [
    "import torch"
   ]
  },
  {
   "cell_type": "code",
   "execution_count": 12,
   "metadata": {},
   "outputs": [],
   "source": [
    "from backbones.timm_backbones import BackboneWrapper\n",
    "from necks.attention_bifpn import BiFPN\n",
    "from heads.dynamic_head import DynamicHead\n",
    "from heads.prediction_head import CenterHead\n",
    "from models.sota_model import MySOTAModel"
   ]
  },
  {
   "cell_type": "code",
   "execution_count": 13,
   "metadata": {},
   "outputs": [],
   "source": [
    "backbone = BackboneWrapper('resnet50', pretrained=True)\n",
    "in_channels_list = backbone.model.feature_info.channels()[:4]\n",
    "\n",
    "neck = BiFPN(in_channels_list=in_channels_list, out_channels=256)\n",
    "head = DynamicHead(in_channels=256, num_levels=5)\n",
    "prediction_head = CenterHead(in_channels=256, num_classes=10)\n",
    "\n",
    "model = MySOTAModel(backbone, neck, head, prediction_head, topk=100)"
   ]
  },
  {
   "cell_type": "code",
   "execution_count": 15,
   "metadata": {},
   "outputs": [],
   "source": [
    "dummy_input = torch.randn(5, 3, 512, 512)\n",
    "image_size = (512, 512)"
   ]
  },
  {
   "cell_type": "code",
   "execution_count": 16,
   "metadata": {},
   "outputs": [],
   "source": [
    "model.eval()\n",
    "with torch.no_grad():\n",
    "    preds = model.predict(dummy_input, image_size=image_size)"
   ]
  },
  {
   "cell_type": "code",
   "execution_count": 17,
   "metadata": {},
   "outputs": [
    {
     "name": "stdout",
     "output_type": "stream",
     "text": [
      "[Image 0] 500 boxes\n",
      "Sample box: tensor([112.3523,   7.9432, 112.4159,   7.9166])\n",
      "Sample score: tensor(0.2506)\n",
      "Sample class: tensor(0)\n",
      "[Image 1] 500 boxes\n",
      "Sample box: tensor([112.3523,   7.9432, 112.4159,   7.9166])\n",
      "Sample score: tensor(0.2506)\n",
      "Sample class: tensor(0)\n",
      "[Image 2] 500 boxes\n",
      "Sample box: tensor([112.3523,   7.9432, 112.4159,   7.9166])\n",
      "Sample score: tensor(0.2506)\n",
      "Sample class: tensor(0)\n",
      "[Image 3] 500 boxes\n",
      "Sample box: tensor([112.3523,   7.9432, 112.4159,   7.9166])\n",
      "Sample score: tensor(0.2506)\n",
      "Sample class: tensor(0)\n",
      "[Image 4] 500 boxes\n",
      "Sample box: tensor([112.3523,   7.9432, 112.4159,   7.9166])\n",
      "Sample score: tensor(0.2506)\n",
      "Sample class: tensor(0)\n"
     ]
    }
   ],
   "source": [
    "for i, (boxes, scores, classes) in enumerate(preds):\n",
    "    print(f\"[Image {i}] {len(boxes)} boxes\")\n",
    "    if len(boxes) > 0:\n",
    "        print(\"Sample box:\", boxes[0])\n",
    "        print(\"Sample score:\", scores[0])\n",
    "        print(\"Sample class:\", classes[0])"
   ]
  },
  {
   "cell_type": "code",
   "execution_count": 10,
   "metadata": {},
   "outputs": [
    {
     "ename": "NameError",
     "evalue": "name 'cls_outs' is not defined",
     "output_type": "error",
     "traceback": [
      "\u001b[1;31m---------------------------------------------------------------------------\u001b[0m",
      "\u001b[1;31mNameError\u001b[0m                                 Traceback (most recent call last)",
      "Cell \u001b[1;32mIn[10], line 1\u001b[0m\n\u001b[1;32m----> 1\u001b[0m \u001b[38;5;28mprint\u001b[39m(torch\u001b[38;5;241m.\u001b[39mmean(\u001b[43mcls_outs\u001b[49m[\u001b[38;5;241m0\u001b[39m]))\n\u001b[0;32m      2\u001b[0m \u001b[38;5;28mprint\u001b[39m(torch\u001b[38;5;241m.\u001b[39mmean(size_outs[\u001b[38;5;241m0\u001b[39m]))\n\u001b[0;32m      3\u001b[0m \u001b[38;5;28mprint\u001b[39m(torch\u001b[38;5;241m.\u001b[39mmean(offset_outs[\u001b[38;5;241m0\u001b[39m]))\n",
      "\u001b[1;31mNameError\u001b[0m: name 'cls_outs' is not defined"
     ]
    }
   ],
   "source": [
    "print(torch.mean(cls_outs[0]))\n",
    "print(torch.mean(size_outs[0]))\n",
    "print(torch.mean(offset_outs[0]))"
   ]
  }
 ],
 "metadata": {
  "kernelspec": {
   "display_name": ".mymodel",
   "language": "python",
   "name": "python3"
  },
  "language_info": {
   "codemirror_mode": {
    "name": "ipython",
    "version": 3
   },
   "file_extension": ".py",
   "mimetype": "text/x-python",
   "name": "python",
   "nbconvert_exporter": "python",
   "pygments_lexer": "ipython3",
   "version": "3.10.10"
  }
 },
 "nbformat": 4,
 "nbformat_minor": 2
}
